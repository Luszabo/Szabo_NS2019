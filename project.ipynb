{
  "cells": [
    {
      "metadata": {
        "trusted": true
      },
      "cell_type": "code",
      "source": "import pandas as pd\nimport matplotlib.pyplot as plt\nimport numpy as np\nimport seaborn as sns\nfrom keras.models import Sequential\nfrom keras.layers import Dense\nfrom keras.utils import np_utils\nfrom keras import losses\nfrom keras.optimizers import RMSprop\nfrom keras.optimizers import SGD\nfrom sklearn.model_selection import train_test_split",
      "execution_count": 1,
      "outputs": [
        {
          "output_type": "stream",
          "text": "Using TensorFlow backend.\n",
          "name": "stderr"
        }
      ]
    },
    {
      "metadata": {
        "trusted": true
      },
      "cell_type": "code",
      "source": "data = pd.read_csv('Dataset.csv')\n\nC = data.iloc[:,2:16]\n\nC = data.iloc[:,2:16]\nC.loc[C['Product'] == \"Deodorant B\", 'typ'] = 0\nC.loc[C['Product'] == \"Deodorant F\", 'typ'] = 1\nC.loc[C['Product'] == \"Deodorant G\", 'typ'] = 2\nC.loc[C['Product'] == \"Deodorant H\", 'typ'] = 3\nC.loc[C['Product'] == \"Deodorant J\", 'typ'] = 4\nX_train = C.iloc[:,4:14].values\ny_train = C.iloc[:,4].values\nkategoricka_premenna = np_utils.to_categorical(y_train)",
      "execution_count": 2,
      "outputs": []
    },
    {
      "metadata": {
        "trusted": true
      },
      "cell_type": "code",
      "source": "# konstruktor\nmodel = Sequential()\n# vstupná vrstva\nmodel.add(Dense(10, activation='relu', input_dim=10))\n# skrytá vrstva \nmodel.add(Dense(10, activation='relu'))\nmodel.add(Dense(10, activation='relu'))\n# výstupná vrstva\nmodel.add(Dense(6, activation='sigmoid'))\n\nsgd = SGD(lr=0.002)\nmodel.compile(loss= \"mean_squared_error\" , optimizer=\"sgd\", metrics=[\"accuracy\"])\n#epochs - množstvo prejdení po datasete, batch_size - velkosť skúmanej vzorky, verbose=1 príkaz na zobrazenie priebehu    \nmodel.fit(X_train, kategoricka_premenna,epochs=50, batch_size=10, verbose=1)\n\nscores = model.evaluate(X_train,kategoricka_premenna)\nprint(\"\\nAccuracy: %.2f%%\" % (scores[1]*100))",
      "execution_count": null,
      "outputs": [
        {
          "output_type": "stream",
          "text": "Epoch 1/50\n2500/2500 [==============================] - 1s 241us/step - loss: 0.1955 - acc: 0.5028\nEpoch 2/50\n2500/2500 [==============================] - 0s 139us/step - loss: 0.1182 - acc: 0.6508\nEpoch 3/50\n2500/2500 [==============================] - 0s 168us/step - loss: 0.1000 - acc: 0.6508\nEpoch 4/50\n2500/2500 [==============================] - 0s 189us/step - loss: 0.0939 - acc: 0.6508\nEpoch 5/50\n2500/2500 [==============================] - 0s 151us/step - loss: 0.0908 - acc: 0.6508\nEpoch 6/50\n2500/2500 [==============================] - 0s 143us/step - loss: 0.0894 - acc: 0.6508\nEpoch 7/50\n2500/2500 [==============================] - 0s 137us/step - loss: 0.0888 - acc: 0.6508\nEpoch 8/50\n2500/2500 [==============================] - 0s 140us/step - loss: 0.0884 - acc: 0.6508\nEpoch 9/50\n2500/2500 [==============================] - 0s 146us/step - loss: 0.0881 - acc: 0.6508\nEpoch 10/50\n2500/2500 [==============================] - 0s 162us/step - loss: 0.0879 - acc: 0.6508\nEpoch 11/50\n2500/2500 [==============================] - 0s 175us/step - loss: 0.0877 - acc: 0.6508\nEpoch 12/50\n2500/2500 [==============================] - 0s 180us/step - loss: 0.0875 - acc: 0.6508\nEpoch 13/50\n2500/2500 [==============================] - 0s 198us/step - loss: 0.0873 - acc: 0.6508\nEpoch 14/50\n2500/2500 [==============================] - 0s 156us/step - loss: 0.0872 - acc: 0.6508\nEpoch 15/50\n2500/2500 [==============================] - 0s 151us/step - loss: 0.0871 - acc: 0.6508\nEpoch 16/50\n2500/2500 [==============================] - 0s 154us/step - loss: 0.0869 - acc: 0.6508\nEpoch 17/50\n2500/2500 [==============================] - 0s 161us/step - loss: 0.0866 - acc: 0.6508\nEpoch 18/50\n2500/2500 [==============================] - 0s 142us/step - loss: 0.0865 - acc: 0.6508 0s - loss: 0.0884 - acc: 0.\nEpoch 19/50\n2500/2500 [==============================] - 0s 168us/step - loss: 0.0864 - acc: 0.6508\nEpoch 20/50\n2500/2500 [==============================] - 0s 189us/step - loss: 0.0862 - acc: 0.6508\nEpoch 21/50\n2500/2500 [==============================] - 1s 227us/step - loss: 0.0859 - acc: 0.6508\nEpoch 22/50\n2500/2500 [==============================] - ETA: 0s - loss: 0.0860 - acc: 0.649 - 1s 228us/step - loss: 0.0857 - acc: 0.6508\nEpoch 23/50\n2500/2500 [==============================] - 0s 168us/step - loss: 0.0854 - acc: 0.6508\nEpoch 24/50\n2500/2500 [==============================] - 0s 149us/step - loss: 0.0852 - acc: 0.6508\nEpoch 25/50\n2500/2500 [==============================] - 0s 141us/step - loss: 0.0849 - acc: 0.6508\nEpoch 26/50\n2500/2500 [==============================] - 0s 141us/step - loss: 0.0846 - acc: 0.6508\nEpoch 27/50\n2500/2500 [==============================] - 0s 139us/step - loss: 0.0844 - acc: 0.6508\nEpoch 28/50\n2500/2500 [==============================] - 0s 146us/step - loss: 0.0841 - acc: 0.6508\nEpoch 29/50\n2500/2500 [==============================] - 0s 144us/step - loss: 0.0837 - acc: 0.6508\nEpoch 30/50\n2500/2500 [==============================] - 0s 156us/step - loss: 0.0834 - acc: 0.6508\nEpoch 31/50\n2500/2500 [==============================] - 0s 154us/step - loss: 0.0830 - acc: 0.6508\nEpoch 32/50\n2500/2500 [==============================] - 0s 160us/step - loss: 0.0826 - acc: 0.6508\nEpoch 33/50\n2500/2500 [==============================] - 0s 171us/step - loss: 0.0822 - acc: 0.6508\nEpoch 34/50\n2500/2500 [==============================] - 0s 147us/step - loss: 0.0817 - acc: 0.6508\nEpoch 35/50\n2500/2500 [==============================] - 0s 142us/step - loss: 0.0812 - acc: 0.6508\nEpoch 36/50\n2500/2500 [==============================] - 0s 156us/step - loss: 0.0806 - acc: 0.6508\nEpoch 37/50\n2500/2500 [==============================] - 0s 187us/step - loss: 0.0799 - acc: 0.6508\nEpoch 38/50\n2500/2500 [==============================] - 1s 209us/step - loss: 0.0791 - acc: 0.6508\nEpoch 39/50\n2500/2500 [==============================] - 1s 214us/step - loss: 0.0783 - acc: 0.6508\nEpoch 40/50\n2500/2500 [==============================] - 1s 202us/step - loss: 0.0775 - acc: 0.6508\nEpoch 41/50\n2500/2500 [==============================] - 0s 179us/step - loss: 0.0766 - acc: 0.6512\nEpoch 42/50\n2500/2500 [==============================] - 0s 156us/step - loss: 0.0757 - acc: 0.6592\nEpoch 43/50\n2500/2500 [==============================] - 0s 141us/step - loss: 0.0748 - acc: 0.6668\nEpoch 44/50\n2500/2500 [==============================] - 0s 156us/step - loss: 0.0739 - acc: 0.6688\nEpoch 45/50\n 770/2500 [========>.....................] - ETA: 0s - loss: 0.0721 - acc: 0.6818",
          "name": "stdout"
        }
      ]
    },
    {
      "metadata": {
        "trusted": true
      },
      "cell_type": "code",
      "source": "y_pred = model.predict(X_train)",
      "execution_count": null,
      "outputs": []
    },
    {
      "metadata": {
        "trusted": true
      },
      "cell_type": "code",
      "source": "y_pred[:5]",
      "execution_count": null,
      "outputs": []
    },
    {
      "metadata": {
        "trusted": true
      },
      "cell_type": "code",
      "source": "kategoricka_premenna[:5]",
      "execution_count": null,
      "outputs": []
    },
    {
      "metadata": {
        "trusted": true
      },
      "cell_type": "code",
      "source": "#C.to_csv('typy2.csv')",
      "execution_count": null,
      "outputs": []
    },
    {
      "metadata": {
        "trusted": true
      },
      "cell_type": "code",
      "source": "",
      "execution_count": null,
      "outputs": []
    }
  ],
  "metadata": {
    "kernelspec": {
      "name": "python36",
      "display_name": "Python 3.6",
      "language": "python"
    },
    "language_info": {
      "mimetype": "text/x-python",
      "nbconvert_exporter": "python",
      "name": "python",
      "pygments_lexer": "ipython3",
      "version": "3.6.6",
      "file_extension": ".py",
      "codemirror_mode": {
        "version": 3,
        "name": "ipython"
      }
    }
  },
  "nbformat": 4,
  "nbformat_minor": 2
}