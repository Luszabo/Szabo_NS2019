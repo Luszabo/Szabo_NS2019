{
  "cells": [
    {
      "metadata": {
        "trusted": true
      },
      "cell_type": "code",
      "source": "import pandas as pd\nimport matplotlib.pyplot as plt\nimport numpy as np\nimport seaborn as sns\nfrom keras.models import Sequential\nfrom keras.layers import Dense",
      "execution_count": 1,
      "outputs": [
        {
          "output_type": "stream",
          "text": "Using TensorFlow backend.\n",
          "name": "stderr"
        }
      ]
    },
    {
      "metadata": {
        "trusted": true
      },
      "cell_type": "code",
      "source": "data = pd.read_csv('Dataset.csv')\nA = data.loc[501:1001,[\"q4_12_heavy\", \"Instant_Liking\", \"q1_1_personal_opinion_of_this_Deodorant\", \"q3_1_strength_of_the_Deodorant\"]]\nB = data.loc[:501,[\"q4_12_heavy\", \"Instant_Liking\", \"q1_1_personal_opinion_of_this_Deodorant\", \"q3_1_strength_of_the_Deodorant\"]]",
      "execution_count": 2,
      "outputs": []
    },
    {
      "metadata": {
        "trusted": true
      },
      "cell_type": "code",
      "source": "A['type'] = 1\nB['type'] = 0\ntypy = A.append(B, ignore_index=True)",
      "execution_count": 3,
      "outputs": []
    },
    {
      "metadata": {
        "trusted": true
      },
      "cell_type": "code",
      "source": "corr = typy.corr()\nsns.heatmap(corr, \n            xticklabels=corr.columns.values,\n            yticklabels=corr.columns.values)\nplt.show()",
      "execution_count": 4,
      "outputs": [
        {
          "output_type": "display_data",
          "data": {
            "image/png": "[encoded data removed]",
            "text/plain": "<Figure size 432x288 with 2 Axes>"
          },
          "metadata": {
            "needs_background": "light"
          }
        }
      ]
    },
    {
      "metadata": {
        "trusted": true
      },
      "cell_type": "code",
      "source": "# Import `train_test_split` from `sklearn.model_selection`\nfrom sklearn.model_selection import train_test_split\n\n# určenie dát . stlpce \"Instant_Liking\" \"q1_1_personal_opinion_of_this_Deodorant\"\nX=typy.ix[:,1:2]\n\n# Specify the target labels and flatten the array\ny= np.ravel(typy.type)\n\n# Split the data up in train and test sets\nX_train, X_test, y_train, y_test = train_test_split(X, y, test_size=0.2, random_state=42)",
      "execution_count": 5,
      "outputs": [
        {
          "output_type": "stream",
          "text": "/home/nbuser/anaconda3_501/lib/python3.6/site-packages/ipykernel/__main__.py:5: DeprecationWarning: \n.ix is deprecated. Please use\n.loc for label based indexing or\n.iloc for positional indexing\n\nSee the documentation here:\nhttp://pandas.pydata.org/pandas-docs/stable/indexing.html#ix-indexer-is-deprecated\n",
          "name": "stderr"
        }
      ]
    },
    {
      "metadata": {
        "trusted": true
      },
      "cell_type": "code",
      "source": "\n# konstruktor\nmodel = Sequential()\n\n# vstupná vrstva\nmodel.add(Dense(12, activation='relu', input_shape=(1,)))\n\n# skrytá vrstva \nmodel.add(Dense(20, activation='relu'))\n\nmodel.add(Dense(4, activation='relu'))\n\n\n# výstupná vrstva\nmodel.add(Dense(1, activation='sigmoid'))",
      "execution_count": 6,
      "outputs": []
    },
    {
      "metadata": {
        "trusted": true
      },
      "cell_type": "code",
      "source": "model.compile(loss='binary_crossentropy',\n              optimizer='adam',\n              metrics=['accuracy'])\n                   \nmodel.fit(X_train, y_train,epochs=25, batch_size=2, verbose=1)\n\nscores = model.evaluate(X_test,y_test)\n\nprint(\"\\nAccuracy: %.2f%%\" % (scores[1]*100))",
      "execution_count": 7,
      "outputs": [
        {
          "output_type": "stream",
          "text": "Epoch 1/25\n802/802 [==============================] - 2s 3ms/step - loss: 0.6933 - acc: 0.4800\nEpoch 2/25\n802/802 [==============================] - 2s 2ms/step - loss: 0.6932 - acc: 0.4576\nEpoch 3/25\n802/802 [==============================] - 1s 2ms/step - loss: 0.6933 - acc: 0.4925\nEpoch 4/25\n802/802 [==============================] - 1s 2ms/step - loss: 0.6933 - acc: 0.4950\nEpoch 5/25\n802/802 [==============================] - 1s 1ms/step - loss: 0.6933 - acc: 0.4701\nEpoch 6/25\n802/802 [==============================] - 1s 1ms/step - loss: 0.6933 - acc: 0.4426\nEpoch 7/25\n802/802 [==============================] - 1s 1ms/step - loss: 0.6933 - acc: 0.4751\nEpoch 8/25\n802/802 [==============================] - 1s 1ms/step - loss: 0.6933 - acc: 0.4825\nEpoch 9/25\n802/802 [==============================] - 2s 2ms/step - loss: 0.6933 - acc: 0.4726\nEpoch 10/25\n802/802 [==============================] - 1s 2ms/step - loss: 0.6933 - acc: 0.4651\nEpoch 11/25\n802/802 [==============================] - 1s 2ms/step - loss: 0.6932 - acc: 0.5000\nEpoch 12/25\n802/802 [==============================] - 1s 2ms/step - loss: 0.6933 - acc: 0.4726\nEpoch 13/25\n802/802 [==============================] - 1s 2ms/step - loss: 0.6933 - acc: 0.4850\nEpoch 14/25\n802/802 [==============================] - 1s 2ms/step - loss: 0.6933 - acc: 0.4900\nEpoch 15/25\n802/802 [==============================] - 1s 2ms/step - loss: 0.6933 - acc: 0.4925\nEpoch 16/25\n802/802 [==============================] - 1s 1ms/step - loss: 0.6933 - acc: 0.4900\nEpoch 17/25\n802/802 [==============================] - 1s 1ms/step - loss: 0.6933 - acc: 0.4626\nEpoch 18/25\n802/802 [==============================] - 1s 2ms/step - loss: 0.6933 - acc: 0.4950\nEpoch 19/25\n802/802 [==============================] - 1s 1ms/step - loss: 0.6933 - acc: 0.4950\nEpoch 20/25\n802/802 [==============================] - 1s 1ms/step - loss: 0.6932 - acc: 0.4800\nEpoch 21/25\n802/802 [==============================] - 1s 1ms/step - loss: 0.6933 - acc: 0.5000\nEpoch 22/25\n802/802 [==============================] - 1s 1ms/step - loss: 0.6933 - acc: 0.4850\nEpoch 23/25\n802/802 [==============================] - 1s 1ms/step - loss: 0.6933 - acc: 0.4950\nEpoch 24/25\n802/802 [==============================] - 1s 2ms/step - loss: 0.6933 - acc: 0.4776\nEpoch 25/25\n802/802 [==============================] - 1s 2ms/step - loss: 0.6933 - acc: 0.4900\n201/201 [==============================] - 0s 644us/step\n\nAccuracy: 50.25%\n",
          "name": "stdout"
        }
      ]
    },
    {
      "metadata": {
        "trusted": true
      },
      "cell_type": "code",
      "source": "y_pred = model.predict(X_test)",
      "execution_count": 8,
      "outputs": []
    },
    {
      "metadata": {
        "trusted": true
      },
      "cell_type": "code",
      "source": "scores = model.evaluate(X_test,y_test)\nprint(\"\\nAccuracy: %.2f%%\" % (scores[1]*100))",
      "execution_count": 9,
      "outputs": [
        {
          "output_type": "stream",
          "text": "201/201 [==============================] - 0s 75us/step\n\nAccuracy: 50.25%\n",
          "name": "stdout"
        }
      ]
    },
    {
      "metadata": {
        "trusted": true
      },
      "cell_type": "code",
      "source": "y_pred = model.predict(X_test)",
      "execution_count": 10,
      "outputs": []
    },
    {
      "metadata": {
        "trusted": true
      },
      "cell_type": "code",
      "source": "y_pred[:10]",
      "execution_count": 11,
      "outputs": [
        {
          "output_type": "execute_result",
          "execution_count": 11,
          "data": {
            "text/plain": "array([[0.4997627],\n       [0.4997627],\n       [0.4997627],\n       [0.4997627],\n       [0.4997627],\n       [0.4997627],\n       [0.4997627],\n       [0.4997627],\n       [0.4997627],\n       [0.4997627]], dtype=float32)"
          },
          "metadata": {}
        }
      ]
    },
    {
      "metadata": {
        "trusted": true
      },
      "cell_type": "code",
      "source": "y_test[:10]",
      "execution_count": 12,
      "outputs": [
        {
          "output_type": "execute_result",
          "execution_count": 12,
          "data": {
            "text/plain": "array([0, 0, 0, 0, 1, 0, 0, 0, 1, 1])"
          },
          "metadata": {}
        }
      ]
    }
  ],
  "metadata": {
    "kernelspec": {
      "name": "python36",
      "display_name": "Python 3.6",
      "language": "python"
    },
    "language_info": {
      "mimetype": "text/x-python",
      "nbconvert_exporter": "python",
      "name": "python",
      "pygments_lexer": "ipython3",
      "version": "3.6.6",
      "file_extension": ".py",
      "codemirror_mode": {
        "version": 3,
        "name": "ipython"
      }
    }
  },
  "nbformat": 4,
  "nbformat_minor": 2
}